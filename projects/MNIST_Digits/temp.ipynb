{
 "cells": [
  {
   "cell_type": "code",
   "execution_count": 1,
   "metadata": {},
   "outputs": [],
   "source": [
    "from life_saving_tools.files.notebook import Notebook\n",
    "nb = Notebook()"
   ]
  },
  {
   "cell_type": "code",
   "execution_count": 4,
   "metadata": {},
   "outputs": [
    {
     "name": "stdout",
     "output_type": "stream",
     "text": [
      "Converting the Notebook to HTML.\n",
      "Looking for the Headers and their positions.\n",
      "Getting correct order of the Headers.\n",
      "Creating the Contents.\n",
      "Content copied to clipboard.\n"
     ]
    }
   ],
   "source": [
    "nb.create_content(\"mnist_ml_models.ipynb\")"
   ]
  },
  {
   "cell_type": "code",
   "execution_count": 5,
   "metadata": {},
   "outputs": [
    {
     "name": "stderr",
     "output_type": "stream",
     "text": [
      "Exporting notebooks...: 100%|██████████| 3/3 [00:01<00:00,  1.56it/s]\n"
     ]
    },
    {
     "data": {
      "text/plain": [
       "['.\\\\mnist-digit-nn-models.html', '.\\\\mnist_ml_models.html']"
      ]
     },
     "execution_count": 5,
     "metadata": {},
     "output_type": "execute_result"
    }
   ],
   "source": [
    "nb.export_directory()"
   ]
  },
  {
   "cell_type": "code",
   "execution_count": null,
   "metadata": {},
   "outputs": [],
   "source": []
  }
 ],
 "metadata": {
  "kernelspec": {
   "display_name": "Python 3.8.5",
   "language": "python",
   "name": "python3"
  },
  "language_info": {
   "codemirror_mode": {
    "name": "ipython",
    "version": 3
   },
   "file_extension": ".py",
   "mimetype": "text/x-python",
   "name": "python",
   "nbconvert_exporter": "python",
   "pygments_lexer": "ipython3",
   "version": "3.8.5"
  },
  "orig_nbformat": 4,
  "vscode": {
   "interpreter": {
    "hash": "21040c1b576dca9f4f330277849b9f4819256d524dee23c2b89e431027dafe11"
   }
  }
 },
 "nbformat": 4,
 "nbformat_minor": 2
}
